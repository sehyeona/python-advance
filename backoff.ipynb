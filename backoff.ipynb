{
 "metadata": {
  "language_info": {
   "codemirror_mode": {
    "name": "ipython",
    "version": 3
   },
   "file_extension": ".py",
   "mimetype": "text/x-python",
   "name": "python",
   "nbconvert_exporter": "python",
   "pygments_lexer": "ipython3",
   "version": 3
  },
  "orig_nbformat": 2,
  "kernelspec": {
   "name": "python_defaultSpec_1597202125731",
   "display_name": "Python 3.8.5 64-bit"
  }
 },
 "nbformat": 4,
 "nbformat_minor": 2,
 "cells": [
  {
   "cell_type": "markdown",
   "metadata": {},
   "source": [
    "# Backoff"
   ]
  },
  {
   "cell_type": "markdown",
   "metadata": {},
   "source": [
    "Truancated exponetial backoff 란 네트워크 장애를 극복하는 방법중 하나이다.  \n",
    "보통 클라이언트 측면에서 사용하는 방법이다. 네트워크와의 통신에 문제가 발생할 때, 여러번 재시도 하는 것을 기본으로한다."
   ]
  },
  {
   "cell_type": "markdown",
   "metadata": {},
   "source": [
    "다음과 같은 상황에서 많이 사용한다.  \n",
    "* 데이터를 다운 받는데 500번대 에러나 429에러를 발생시킬때  \n",
    "* 408 response error 발생  \n",
    "* 소켓 타임아웃 및 tcp 연결장애"
   ]
  },
  {
   "cell_type": "markdown",
   "metadata": {},
   "source": [
    "이런 경우 매우 중요하다. \n",
    "1. 고객측면에서 어플리케이션을 개발(특히 json/XML api를 이용할때)\n",
    "2. 그외 등등"
   ]
  },
  {
   "cell_type": "markdown",
   "metadata": {},
   "source": [
    "### Example algorithm\n",
    "An exponential backoff algorithm retries requests exponentially, increasing the waiting time between retries up to a maximum backoff time. An example is:\n",
    "\n",
    "1. If the request fails, wait 1 + random_number_milliseconds seconds and retry the request.\n",
    "\n",
    "2. If the request fails, wait 2 + random_number_milliseconds seconds and retry the request.\n",
    "\n",
    "3. If the request fails, wait 4 + random_number_milliseconds seconds and retry the request.\n",
    "\n",
    "4. And so on, up to a maximum_backoff time.\n",
    "\n",
    "5. Continue waiting and retrying up to some maximum number of retries, but do not increase the wait period between retries."
   ]
  },
  {
   "cell_type": "markdown",
   "metadata": {},
   "source": [
    "where:\n",
    "\n",
    "*  The wait time is min(((2^n)+random_number_milliseconds), maximum_backoff), with n incremented by 1 for each iteration (request).\n",
    "\n",
    "*  random_number_milliseconds is a random number of milliseconds less than or equal to 1000. This helps to avoid cases where many clients get synchronized by some situation and all retry at once, sending requests in synchronized waves. The value of random_number_milliseconds is recalculated after each retry request.\n",
    "\n",
    "*  maximum_backoff is typically 32 or 64 seconds. The appropriate value depends on the use case."
   ]
  },
  {
   "cell_type": "markdown",
   "metadata": {},
   "source": [
    "### \\+ typing 모듈  \n",
    "typing 모듈은 런타임단계로서 함수형식이나 객체, 타입에 대한 제한을 두지 않는다.  \n",
    "IDE, LINTER 등에서 돕기도 하지만 typing 모듈을 이용하여 해결할 수 있다. "
   ]
  },
  {
   "cell_type": "code",
   "execution_count": null,
   "metadata": {},
   "outputs": [],
   "source": [
    "from functools import wraps\n",
    "import random\n",
    "from urllib import HttpError\n",
    "import time\n",
    "from typing import Callable\n",
    "\n",
    "class BackOff(object):\n",
    "    def __init__(self, maxTries: int=3, \n",
    "                is_success: Callable:None, \n",
    "                method='exponential', sleepTimes=100, \n",
    "                jitter: bool=True,\n",
    "                action_when_error: Callable:None, actionWhenErrorArugmet: dict=None\n",
    "                ):\n",
    "        self.maxTries = maxTries\n",
    "        self.is_success = is_success\n",
    "        self.method = method\n",
    "        self.sleepTimes = sleepTimes\n",
    "        self.action_when_error = action_when_error\n",
    "        self.actionWhenErrorArugmet = actionWhenErrorArugmet\n",
    "\n",
    "    def __call__(self, func):\n",
    "        @wraps(func)\n",
    "        def retry(*args, **kwargs):\n",
    "            tries = 0 \n",
    "            if self.method = \"Exponential\":\n",
    "                sleep_times = self.exponential_wait()\n",
    "            elif self.method = \"Simple\":\n",
    "                sleep_times = self.constant_wait(self.maxTries, self.sleepTimes)\n",
    "            else: \n",
    "                print(\"Available backoff methods are Exponential/Simple.\")\n",
    "                raise AssignError\n",
    "\n",
    "            while True:\n",
    "                tries += 1\n",
    "                # is_success 함수는 우리가 데코레이터로 덧씌울 함수의 결과값을 인자로 받아 이 함수를 끝낼지 말지를 반환한다.\n",
    "                # 만약 is_success 함수가 없다면, 즉 그냥 함수 output만으로 끝맺음을 결정할 수 있다면..\n",
    "                if is_success is None:\n",
    "                    # 함수 다시시도해보기\n",
    "                    try:\n",
    "                        output = func(*arg, **kwargs)\n",
    "                        finish = True\n",
    "                    # http 에러인 경우와 아닌경우 로 나누자!\n",
    "                    except HttpError as e:\n",
    "                        # 404에러는 기다린다고 나아지는게 아님 따라서 404났을때의 행동수칙을 따로 지정\n",
    "                        if e.resp.status = 404:\n",
    "                            output = self.action_when_error(**actionWhenErrorArugmet)\n",
    "                            finish = True\n",
    "                        # 만약 404 에러가 아니면 다시 시도할 것\n",
    "                        else:\n",
    "                            output = None\n",
    "                            finish = False\n",
    "                        # 만약 retry 할때 따로 하고싶은 행동이 있다면 지금 수행\n",
    "                        if self.retry_action is not None:\n",
    "                            output = self.retry_action()\n",
    "                    # http 에러가 아닌 다른 에러라면? \n",
    "                    except Exception as e:\n",
    "                        output = None \n",
    "                        finish = False\n",
    "                        if self.retry_action is not None:\n",
    "                            output = self.retry_action()\n",
    "                # 만약 is_success 함수가 있는 경우\n",
    "                else:\n",
    "                    output = func(*args, **kwargs)\n",
    "                    finish = self.is_success(output)\n",
    "                # 성공하든 아니면 404가 뜨든 끝나면 output 반환\n",
    "                if finish:\n",
    "                    return output\n",
    "                # 성공 안하고 404도 아는데 최대시도 횟수를 초과한경우 \n",
    "                if self.maxTries is not None and tries >= maxTries:\n",
    "                    raise maxTriesExceeded\n",
    "                # 휴식시간 지정\n",
    "                sleep_time = next(sleep_time)\n",
    "                # 지터온이라면 full jitter 이용 sleep time 만들기\n",
    "                if self.jitter:\n",
    "                    sleep_time = self.full_jitter(sleep_time)\n",
    "                # 휴식 \n",
    "                time.timesleep(sleep_time)\n",
    "        return retry\n",
    "                \n",
    "            \n",
    "    def exponential_wait(self, base=2, maxValuse=64):\n",
    "        count = 0\n",
    "        while True:\n",
    "            value = base ** count + random.random()\n",
    "            if value <= maxValuse:\n",
    "                yield value\n",
    "                count += 1\n",
    "            else :\n",
    "                maxValuse += random.random()\n",
    "                yield maxValuse\n",
    "    \n",
    "    def constant_wait(self, maxTries=5, sleepTimes=100):\n",
    "        for _ in range(maxTries):\n",
    "            yield sleepTimes\n",
    "\n",
    "    def full_jitter(self, value):\n",
    "        return random.uniform(0, value)"
   ]
  }
 ]
}