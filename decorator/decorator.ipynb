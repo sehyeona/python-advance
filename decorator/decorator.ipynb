{
 "metadata": {
  "language_info": {
   "codemirror_mode": {
    "name": "ipython",
    "version": 3
   },
   "file_extension": ".py",
   "mimetype": "text/x-python",
   "name": "python",
   "nbconvert_exporter": "python",
   "pygments_lexer": "ipython3",
   "version": 3
  },
  "orig_nbformat": 2,
  "kernelspec": {
   "name": "python_defaultSpec_1597211771661",
   "display_name": "Python 3.8.5 64-bit"
  }
 },
 "nbformat": 4,
 "nbformat_minor": 2,
 "cells": [
  {
   "cell_type": "markdown",
   "metadata": {},
   "source": [
    "# Decorator"
   ]
  },
  {
   "cell_type": "markdown",
   "metadata": {},
   "source": [
    "1. 함수를 받아 <strong>명령을 추가</strong>한 뒤 이를 다시 함수의 형태로 반환하는 함수이다.  \n",
    "2. 함수의 내부를 수정하지 않고 기능에 변화를 주고 싶을 때 사용한다.  \n",
    "3. 일반적으로 함수의 전처리나 후처리에 대한 필요가 있을때 사용을 한다.  \n",
    "4. 또한 데코레이터를 이용해, 반복을 줄이고 메소드나 함수의 책임을 확장한다."
   ]
  },
  {
   "cell_type": "markdown",
   "metadata": {},
   "source": [
    "### 1. 함수형 데코레이터\n",
    "함수의 결과값이 홀수이면 두배를 만들어주는 함수형 decorator 예시"
   ]
  },
  {
   "cell_type": "code",
   "execution_count": 1,
   "metadata": {
    "tags": []
   },
   "outputs": [],
   "source": [
    "def twiceodd(func):\n",
    "    def wrapper(*args, **kwargs):\n",
    "        if func(*args, **kwargs) % 2 == 1:\n",
    "            return func(*args, **kwargs)\n",
    "        else :\n",
    "            return 2 * func(*args, **kwargs)\n",
    "    return wrapper"
   ]
  },
  {
   "cell_type": "code",
   "execution_count": 2,
   "metadata": {
    "tags": []
   },
   "outputs": [
    {
     "output_type": "execute_result",
     "data": {
      "text/plain": "(8, 5)"
     },
     "metadata": {},
     "execution_count": 2
    }
   ],
   "source": [
    "@twiceodd\n",
    "def add(a,b):\n",
    "    return a+b\n",
    "add(1, 3), add(1, 4)"
   ]
  },
  {
   "cell_type": "code",
   "execution_count": 3,
   "metadata": {},
   "outputs": [
    {
     "output_type": "execute_result",
     "data": {
      "text/plain": "(3, 20)"
     },
     "metadata": {},
     "execution_count": 3
    }
   ],
   "source": [
    "@twiceodd\n",
    "def multiply(a, b):\n",
    "    return a*b\n",
    "multiply(1, 3), multiply(2, 5)"
   ]
  },
  {
   "cell_type": "markdown",
   "metadata": {},
   "source": [
    "### 2. 객체형 데코레이터 \n",
    "함수의 결과값이 홀수이면 두배, 짝수이면 절반으로 쪼개는 decorator 예시"
   ]
  },
  {
   "cell_type": "code",
   "execution_count": 4,
   "metadata": {},
   "outputs": [],
   "source": [
    "class TwiceOddHalfEven(object):\n",
    "    def __init__(self, func):\n",
    "        self.func = func\n",
    "    def __call__(self, *args, **kwargs):\n",
    "        if self.func(*args, **kwargs) % 2 == 1:\n",
    "            return 2 * self.func(*args, **kwargs)\n",
    "        else :\n",
    "            return 0.5 * self.func(*args, **kwargs)"
   ]
  },
  {
   "cell_type": "code",
   "execution_count": 5,
   "metadata": {},
   "outputs": [
    {
     "output_type": "execute_result",
     "data": {
      "text/plain": "(2.0, 10)"
     },
     "metadata": {},
     "execution_count": 5
    }
   ],
   "source": [
    "@TwiceOddHalfEven\n",
    "def add(a,b):\n",
    "    return a+b\n",
    "add(1, 3), add(1, 4)"
   ]
  },
  {
   "cell_type": "markdown",
   "metadata": {},
   "source": [
    "### 3. from functiontools import wrap\n",
    "어떤 함수를 감싸는 역할을 하는 wrapper 함수를 정의 할 때 update_wrapper() 를 함수 데코레이터로써 호출하는 편리한 함수입니다.   \n",
    "이것은 아래 식과 동일합니다. \n",
    "```\n",
    "partial(update_wrapper, wrapped=wrapped, assigned=assigned, updated=updated)\n",
    "```\n"
   ]
  },
  {
   "cell_type": "markdown",
   "metadata": {},
   "source": [
    "### 3-1 update_wrapper()란 무엇인가 ?   \n",
    "wrapper 함수를 wrapped 함수처럼 보이도록 업데이트한다. 추가되어야할 인자는 튜플의 형태로서 원래의 함수에서 \n",
    "\n",
    "1. 원래 함수의 어떤 속성을 wrapper 함수에 매칭시킬지 \n",
    "2. wrapper 함수의 어떤 속성들을 원래 함수의 값으로 업데이트 할지 명시한다. \n",
    "\n",
    "이 선택적 인수들은 모듈 수준의 상수인 WRAPPER_ASSIGNMENTS (__name__, __module__, __doc__) 와\n",
    "WRAPPER_UPDATES (wrapper 함수의 __dict__ 즉, 인스턴스 dictionary) 이다.\n",
    "    \n",
    "만약 원래의 함수를 introspection(적당한 우리말 의미가 없네요.. 성찰한다는 의미) 하거나, \n",
    "다른 목적으로 접근을 허용하기 위해(예를 들어, caching decorator 인 lru_cache() 를 우회한다거나) \n",
    "즉 원래함수를 조사하고, 어떤 부분을 wrapper로 감싸는지를 지정하기 위해  \n",
    "이 함수는 자동으로 __wrapped__ attribute 를 추가하여, 원래의 함수를 참조할 수 있도록 합니다\n",
    "    \n",
    "이 함수는 다른 함수가 원래 함수의 \"함수이름\", \"함수 설명 텍스트\", \"모듈\" 등의 정보를\n",
    "참조할 수 있도록 전달하기 위해 필요합니다. "
   ]
  },
  {
   "cell_type": "code",
   "execution_count": 6,
   "metadata": {
    "tags": []
   },
   "outputs": [
    {
     "output_type": "stream",
     "name": "stdout",
     "text": "<__main__.TwiceOddHalfEven object at 0x10def1850>\n"
    }
   ],
   "source": [
    "print(add)"
   ]
  },
  {
   "cell_type": "code",
   "execution_count": 28,
   "metadata": {},
   "outputs": [],
   "source": [
    "from functools import wraps\n",
    "\n",
    "class AssignError(Exception):\n",
    "    pass \n",
    "\n",
    "class TwiceOddorEven(object):\n",
    "    def __init__(self, rule):\n",
    "        self.rule = rule\n",
    "    def __call__(self, func):\n",
    "        @wraps(func)\n",
    "        def wrapper(*args, **kwargs):\n",
    "            if self.rule == 'Odd':\n",
    "                if func(*args, **kwargs) % 2 == 1:\n",
    "                    return 2 * func(*args, **kwargs)\n",
    "                else :\n",
    "                    return func(*args, **kwargs)\n",
    "            elif self.rule == 'Even':\n",
    "                if func(*args, **kwargs) % 2 == 0:\n",
    "                    return 2 * func(*args, **kwargs)\n",
    "                else :\n",
    "                    return func(*args, **kwargs)\n",
    "            else :\n",
    "                print('Rules are Odd/Even')\n",
    "                raise AssertionError\n",
    "        return wrapper"
   ]
  },
  {
   "cell_type": "code",
   "execution_count": 29,
   "metadata": {},
   "outputs": [],
   "source": [
    "@TwiceOddorEven(rule='Odd')\n",
    "def sub(a, b):\n",
    "    return a - b"
   ]
  },
  {
   "cell_type": "code",
   "execution_count": 32,
   "metadata": {
    "tags": []
   },
   "outputs": [
    {
     "output_type": "execute_result",
     "data": {
      "text/plain": "6"
     },
     "metadata": {},
     "execution_count": 32
    }
   ],
   "source": [
    "sub(7, 4)"
   ]
  },
  {
   "cell_type": "code",
   "execution_count": 33,
   "metadata": {
    "tags": []
   },
   "outputs": [
    {
     "output_type": "stream",
     "name": "stdout",
     "text": "<function sub at 0x110f48f70>\n"
    }
   ],
   "source": [
    "print(sub)"
   ]
  },
  {
   "cell_type": "markdown",
   "metadata": {},
   "source": [
    "위의 예시에서 볼 수 있듯이 데코레이터에 의해 add 함수의 이름/ 설명 텍스트/ 모듈 등의 정보가 변한 것을 확인할 수 있다.   \n",
    "왜냐.. TwiceOddHalfEven 이라는 데코레이터 의해 add를 실행할 때, 그 안의 __call__ 함수가 반환되기 때문이다.   \n",
    "즉 update_wrapper() 함수는 데코레이터가 원래함수의 \"이름\" / \"설명 텍스트\" / \"모듈 정보\" 등을 참조하여 사용할 수 있도록 해줍니다."
   ]
  },
  {
   "cell_type": "markdown",
   "metadata": {},
   "source": [
    "### 3-2 partial()란 무엇인가?    \n",
    "\n",
    "원래의 함수처럼 positional arguments, keyword arguments 와 함께 호출될 수 있는 \"partial object\" 를 반환합니다. 더 많은 인수가 제공되면, *args* 에 추가됩니다.  \n",
    "만약 추가적인 keyword arguments 가 제공되면, 기존의 keyword 를 확장하거나 덮어씁니다.  \n",
    "대략적으로 아래의 함수와 같습니다.\n",
    "\n"
   ]
  },
  {
   "cell_type": "markdown",
   "metadata": {},
   "source": [
    "partial object 들 .. \n",
    "\n",
    "* partial.func   \n",
    "  callable object 또는 함수입니다. partial object 를 호출한다면, .func attribute 로 새로운 positional arguments, keyword arguments 가 전달 됩니다.    \n",
    "        \n",
    "\n",
    "\n",
    "        \n",
    "* partial.args   \n",
    "  partial object 호출에 제공될 가장 왼쪽의 positional arguments 로 positional arguments 의 앞에 추가된다.    \n",
    "\n",
    "    \n",
    "* partial.keywords   \n",
    "  partial object 가 호출될 때 제공될 keyword arguments 의 dict.    \n",
    "  "
   ]
  },
  {
   "cell_type": "markdown",
   "metadata": {},
   "source": [
    "위의 설명만으로는 알아듣기 힘들다 다음과 예제를 확인해 보자"
   ]
  },
  {
   "cell_type": "code",
   "execution_count": 9,
   "metadata": {},
   "outputs": [
    {
     "output_type": "execute_result",
     "data": {
      "text/plain": "8"
     },
     "metadata": {},
     "execution_count": 9
    }
   ],
   "source": [
    "def pow(base, exponent):\n",
    "    return base ** exponent\n",
    "pow(2,3)"
   ]
  },
  {
   "cell_type": "code",
   "execution_count": 1,
   "metadata": {},
   "outputs": [
    {
     "output_type": "execute_result",
     "data": {
      "text/plain": "(8, 81)"
     },
     "metadata": {},
     "execution_count": 1
    }
   ],
   "source": [
    "# 이때 square, cube 함수를 만들고 싶다면 이런식으로 하면된다.\n",
    "def square(exponent):\n",
    "    return pow(2, exponent)\n",
    "def cube(exponent):\n",
    "    return pow(3, exponent)\n",
    "square(3), cube(4)"
   ]
  },
  {
   "cell_type": "markdown",
   "metadata": {},
   "source": [
    "하지만 이때 power에 대한 수많은 변수를 만들고 싶다면 어떻게 하는 것이 좋을까"
   ]
  },
  {
   "cell_type": "code",
   "execution_count": 11,
   "metadata": {
    "tags": []
   },
   "outputs": [
    {
     "output_type": "stream",
     "name": "stdout",
     "text": "done\n"
    }
   ],
   "source": [
    "from functools import partial\n",
    "\n",
    "square = partial(pow, exponent=2)\n",
    "cube = partial(pow, exponent=3)\n",
    "\n",
    "assert square(2) == 4\n",
    "assert cube(2) == 8\n",
    "prinzt('done')"
   ]
  },
  {
   "cell_type": "code",
   "execution_count": null,
   "metadata": {},
   "outputs": [],
   "source": []
  }
 ]
}