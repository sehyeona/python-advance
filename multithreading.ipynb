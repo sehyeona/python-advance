{
 "metadata": {
  "language_info": {
   "codemirror_mode": {
    "name": "ipython",
    "version": 3
   },
   "file_extension": ".py",
   "mimetype": "text/x-python",
   "name": "python",
   "nbconvert_exporter": "python",
   "pygments_lexer": "ipython3",
   "version": 3
  },
  "orig_nbformat": 2,
  "kernelspec": {
   "name": "python_defaultSpec_1597127002057",
   "display_name": "Python 3.8.5 64-bit"
  }
 },
 "nbformat": 4,
 "nbformat_minor": 2,
 "cells": [
  {
   "cell_type": "markdown",
   "metadata": {},
   "source": [
    "# 멀티 쓰레딩"
   ]
  },
  {
   "cell_type": "markdown",
   "metadata": {},
   "source": [
    "### 1. concurrent.futures.ThreadPoolExecutor"
   ]
  },
  {
   "cell_type": "markdown",
   "metadata": {},
   "source": [
    "* 동기적 : 어떤 요청을 보냈을때 그에 대한 응답을 받을때 까지 대기하였다가 응답이오면 작업 시작하는 방식\n",
    "* 비동기적 : 어떤 요청을 보냈을때 그에 대한 응답을 기다리는 동안 다른 작업 실시"
   ]
  },
  {
   "cell_type": "code",
   "execution_count": 9,
   "metadata": {
    "tags": []
   },
   "outputs": [
    {
     "output_type": "stream",
     "name": "stdout",
     "text": "8\n0.00\n"
    }
   ],
   "source": [
    "import time\n",
    "start = time.time()\n",
    "print(pow(2,3))\n",
    "end = time.time()\n",
    "print(\"{:.2f}\".format(end - start))"
   ]
  },
  {
   "cell_type": "markdown",
   "metadata": {},
   "source": [
    "concurrent.futures.ThreadPoolExecutor 를 excutor 로 열어준 뒤,\n",
    "submit을 이용하여 처리하고 싶은 함수와 인자들을 보낸다.   \n",
    "submit 외에도 map과 shutdown 등의 메서드가 존재하는데 with 구문을 이용하면 shutdown 은 사실상 필요없다. \n",
    "\n",
    "* sbmit  \n",
    "콜러블 fn 이 fn(*args **kwargs) 처럼 실행되도록 예약하고, 콜러블 객체의 실행을 나타내는 Future 객체를 반환합니다."
   ]
  },
  {
   "cell_type": "code",
   "execution_count": 10,
   "metadata": {
    "tags": []
   },
   "outputs": [
    {
     "output_type": "stream",
     "name": "stdout",
     "text": "8\n"
    }
   ],
   "source": [
    "from concurrent.futures import ThreadPoolExecutor\n",
    "with ThreadPoolExecutor(max_workers=1) as executor:\n",
    "    future = executor.submit(pow, 2, 3)\n",
    "    print(future.result())"
   ]
  },
  {
   "cell_type": "markdown",
   "metadata": {},
   "source": [
    "ThreadPoolExecutor 는 스레드 풀을 사용하여 호출을 비동기적으로 실행하는 Executor 서브 클래스입니다.  \n",
    "이때 동기적인 작업을 쓰레드로 진행한다면 교착상태가 발생할 수 있습니다.   \n",
    "동기적 비동기적 작업은 내가 직접 정의하는게 아닌 해야하는 작업에 따라 달라집니다.  \n",
    "\n",
    "Future와 관련된 콜러블 객체가 다른 Future 의 결과를 기다릴 때 교착 상태가 발생할 수 있습니다. 예를 들면:  "
   ]
  },
  {
   "cell_type": "code",
   "execution_count": 19,
   "metadata": {},
   "outputs": [],
   "source": [
    "import time\n",
    "def wait_on_b():\n",
    "    time.sleep(5)\n",
    "    print(b.result())  # b will never complete because it is waiting on a.\n",
    "    return 5\n",
    "\n",
    "def wait_on_a():\n",
    "    time.sleep(5)\n",
    "    print(a.result())  # a will never complete because it is waiting on b.\n",
    "    return 6\n",
    "\n",
    "\n",
    "executor = ThreadPoolExecutor(max_workers=2)\n",
    "a = executor.submit(wait_on_b)\n",
    "b = executor.submit(wait_on_a)\n",
    "# a.result(), b.result()"
   ]
  },
  {
   "cell_type": "markdown",
   "metadata": {},
   "source": [
    "위 코드의 a는 b가 끝날때 까지 기다리고 , b는 a가 끝날때 까지 기다린다. 즉 둘이 비동기식으로 진행된다면 교착상태에 빠지게 된다."
   ]
  },
  {
   "cell_type": "code",
   "execution_count": 24,
   "metadata": {},
   "outputs": [
    {
     "output_type": "execute_result",
     "data": {
      "text/plain": "<Future at 0x10772b220 state=running>"
     },
     "metadata": {},
     "execution_count": 24
    }
   ],
   "source": [
    "def wait_on_future():\n",
    "    f = executor.submit(pow, 5, 2)\n",
    "    # This will never complete because there is only one worker thread and\n",
    "    # it is executing this function.\n",
    "    print(f.result())\n",
    "\n",
    "executor = ThreadPoolExecutor(max_workers=1)\n",
    "executor.submit(wait_on_future)"
   ]
  },
  {
   "cell_type": "markdown",
   "metadata": {},
   "source": [
    "마찬가지로 위의 코드도 절대 끝나지 않는다. \n",
    "하나의 Thread 만 작동하여 그 thread 에 wait_on_future 만 할당되고,  그 함수 안에 존재하는 pow 함수를 할당할 thread수가 부족하기 때문이다."
   ]
  },
  {
   "cell_type": "markdown",
   "metadata": {},
   "source": [
    "### CONCURRENT.FUTURES 모듈 퀵 가이드"
   ]
  },
  {
   "cell_type": "markdown",
   "metadata": {},
   "source": [
    "먼저 쓰레드 세개를 가진 쓰레드 풀을 만들고 함수를 넣는다. 그런다음 풀을 작업에 제출한다.\n",
    "풀에 제출된 작업은 future.result() 값으로 남는다."
   ]
  },
  {
   "cell_type": "code",
   "execution_count": 4,
   "metadata": {
    "tags": []
   },
   "outputs": [
    {
     "output_type": "stream",
     "name": "stdout",
     "text": "False\nfinish\nTrue\nhello\n"
    }
   ],
   "source": [
    "from concurrent.futures import ThreadPoolExecutor\n",
    "import time \n",
    "\n",
    "def wait_5second(message):\n",
    "    time.sleep(5)\n",
    "    print('finish')\n",
    "    return message\n",
    "\n",
    "pool = ThreadPoolExecutor(3)\n",
    "future = pool.submit(wait_5second, 'hello')\n",
    "print(future.done())\n",
    "time.sleep(6)\n",
    "print(future.done())\n",
    "print(future.result())"
   ]
  },
  {
   "cell_type": "markdown",
   "metadata": {},
   "source": [
    "future 를 다루는 두개의 함수가 있음   \n",
    "\n",
    "1. as_complete() \n",
    "as_completed() 함수는 future 객체를 반복하여 가져오고 future가 문제를 해결하기 시작되면 즉시 값을 yielding 하기 시작합니다. 앞서 언급 한 map 메소드와 as_completed의 주요 차이점은 map이 iterable을 전달한 순서대로 결과를 리턴한다는 점이다. 첫 번째 항목에 대한 결과는 map메서드의 첫 번째 결과입니다. 반면, as_completed 함수의 첫 번째 결과는 가장 먼저 완료된 future의 결과입니다.\n",
    "\n",
    "2. wait()\n",
    "함수는 두 세트를 포함하는 명명된 튜플을 반환합니다. 하나의 세트에는 완료된 futures (결과 또는 예외가 있음)과 완료되지 않은 것을 포함하는 다른 세트가 포함됩니다.\n",
    "여기에 예제가 있습니다.\n"
   ]
  },
  {
   "cell_type": "code",
   "execution_count": 14,
   "metadata": {
    "tags": []
   },
   "outputs": [
    {
     "output_type": "execute_result",
     "data": {
      "text/plain": "15.713350296020508"
     },
     "metadata": {},
     "execution_count": 14
    }
   ],
   "source": [
    "from concurrent.futures import ThreadPoolExecutor, wait, as_completed\n",
    "from time import sleep\n",
    "from random import randint\n",
    "import os\n",
    "import time\n",
    "\n",
    "def return_after_5_secs(num):\n",
    "    # sleep(randint(1, 7))\n",
    "    os.makedirs(os.path.dirname('./test_txt/'),exist_ok=True)\n",
    "    with open('./test_txt/{}'.format(num), 'w') as txt:\n",
    "        txt.write('the number is %d'%num)\n",
    "    return \"Return of {}\".format(num)\n",
    " \n",
    "pool = ThreadPoolExecutor()\n",
    "futures = []\n",
    "\n",
    "start = time.time()\n",
    "for x in range(100000):\n",
    "    futures.append(pool.submit(return_after_5_secs, x))\n",
    " \n",
    "for x in as_completed(futures):\n",
    "    x.result()\n",
    "end = time.time()\n",
    "end - start"
   ]
  },
  {
   "cell_type": "code",
   "execution_count": 16,
   "metadata": {},
   "outputs": [
    {
     "output_type": "execute_result",
     "data": {
      "text/plain": "14.709906101226807"
     },
     "metadata": {},
     "execution_count": 16
    }
   ],
   "source": [
    "start = time.time()\n",
    "for x in range(100000):\n",
    "    return_after_5_secs(x)\n",
    "end = time.time() \n",
    "end - start"
   ]
  },
  {
   "cell_type": "code",
   "execution_count": null,
   "metadata": {},
   "outputs": [],
   "source": []
  }
 ]
}